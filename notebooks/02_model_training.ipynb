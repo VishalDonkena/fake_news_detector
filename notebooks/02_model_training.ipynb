{
  "cells": [
    {
      "cell_type": "markdown",
      "metadata": {},
      "source": [
        "# Fake News Detection - Model Training Pipeline\n",
        "\n",
        "This notebook demonstrates the complete training pipeline for the fake news detection model.\n"
      ]
    },
    {
      "cell_type": "code",
      "execution_count": null,
      "metadata": {},
      "outputs": [],
      "source": [
        "# Import required libraries\n",
        "import pandas as pd\n",
        "import numpy as np\n",
        "import joblib\n",
        "from sklearn.model_selection import train_test_split\n",
        "from sklearn.metrics import classification_report, confusion_matrix\n",
        "import matplotlib.pyplot as plt\n",
        "import seaborn as sns\n",
        "import os\n",
        "import sys\n",
        "\n",
        "# Add src directory to path\n",
        "sys.path.append('../src')\n",
        "\n",
        "# Import our custom classes\n",
        "from preprocessor import Preprocessor\n",
        "from feature_extractor import FeatureExtractor\n",
        "from model_trainer import ModelTrainer\n"
      ]
    },
    {
      "cell_type": "markdown",
      "metadata": {},
      "source": [
        "## 1. Load Dataset\n"
      ]
    },
    {
      "cell_type": "code",
      "execution_count": null,
      "metadata": {},
      "outputs": [],
      "source": [
        "# Load the dataset\n",
        "# Note: Replace 'your_dataset.csv' with your actual dataset filename\n",
        "dataset_path = '../data/raw/your_dataset.csv'\n",
        "\n",
        "try:\n",
        "    df = pd.read_csv(dataset_path)\n",
        "    print(f\"Dataset loaded successfully!\")\n",
        "    print(f\"Shape: {df.shape}\")\n",
        "    print(f\"Columns: {df.columns.tolist()}\")\n",
        "    print(f\"\\nFirst few rows:\")\n",
        "    print(df.head())\n",
        "except FileNotFoundError:\n",
        "    print(f\"Dataset not found at {dataset_path}\")\n",
        "    print(\"Please download a dataset and place it in the data/raw/ directory\")\n",
        "    print(\"Expected columns: 'text' and 'label'\")\n",
        "    print(\"\\nExample dataset structure:\")\n",
        "    print(\"text,label\")\n",
        "    print(\"This is a fake news article,1\")\n",
        "    print(\"This is a real news article,0\")\n"
      ]
    },
    {
      "cell_type": "markdown",
      "metadata": {},
      "source": [
        "## 2. Data Preprocessing\n"
      ]
    },
    {
      "cell_type": "code",
      "execution_count": null,
      "metadata": {},
      "outputs": [],
      "source": [
        "# Initialize preprocessor\n",
        "preprocessor = Preprocessor()\n",
        "\n",
        "# Apply preprocessing to the text column\n",
        "print(\"Preprocessing text data...\")\n",
        "df['cleaned_text'] = df['text'].apply(preprocessor.clean_text)\n",
        "\n",
        "print(\"Preprocessing completed!\")\n",
        "print(f\"\\nOriginal text example:\")\n",
        "print(df['text'].iloc[0])\n",
        "print(f\"\\nCleaned text example:\")\n",
        "print(df['cleaned_text'].iloc[0])\n"
      ]
    },
    {
      "cell_type": "markdown",
      "metadata": {},
      "source": [
        "## 3. Train-Test Split\n"
      ]
    },
    {
      "cell_type": "code",
      "execution_count": null,
      "metadata": {},
      "outputs": [],
      "source": [
        "# Split the data into training and testing sets\n",
        "X = df['cleaned_text'].values\n",
        "y = df['label'].values\n",
        "\n",
        "X_train, X_test, y_train, y_test = train_test_split(\n",
        "    X, y, test_size=0.2, random_state=42, stratify=y\n",
        ")\n",
        "\n",
        "print(f\"Training set size: {len(X_train)}\")\n",
        "print(f\"Test set size: {len(X_test)}\")\n",
        "print(f\"Training labels distribution: {np.bincount(y_train)}\")\n",
        "print(f\"Test labels distribution: {np.bincount(y_test)}\")\n"
      ]
    },
    {
      "cell_type": "markdown",
      "metadata": {},
      "source": [
        "## 4. Feature Extraction\n"
      ]
    },
    {
      "cell_type": "code",
      "execution_count": null,
      "metadata": {},
      "outputs": [],
      "source": [
        "# Initialize feature extractor\n",
        "feature_extractor = FeatureExtractor(method='tfidf')\n",
        "\n",
        "# Fit and transform training data\n",
        "print(\"Generating features for training data...\")\n",
        "X_train_features = feature_extractor.generate_features(X_train, fit=True)\n",
        "\n",
        "# Transform test data (don't fit on test data)\n",
        "print(\"Generating features for test data...\")\n",
        "X_test_features = feature_extractor.generate_features(X_test, fit=False)\n",
        "\n",
        "print(f\"Training features shape: {X_train_features.shape}\")\n",
        "print(f\"Test features shape: {X_test_features.shape}\")\n",
        "\n",
        "# Save the fitted vectorizer\n",
        "vectorizer_path = '../models/tfidf_vectorizer.pkl'\n",
        "os.makedirs('../models', exist_ok=True)\n",
        "joblib.dump(feature_extractor.vectorizer, vectorizer_path)\n",
        "print(f\"Vectorizer saved to {vectorizer_path}\")\n"
      ]
    },
    {
      "cell_type": "markdown",
      "metadata": {},
      "source": [
        "## 5. Model Training\n"
      ]
    },
    {
      "cell_type": "code",
      "execution_count": null,
      "metadata": {},
      "outputs": [],
      "source": [
        "# Initialize model trainer\n",
        "# Note: For TF-IDF features, we need to adjust the model architecture\n",
        "# Since TF-IDF gives us dense features, we'll use a simpler architecture\n",
        "from tensorflow.keras.models import Sequential\n",
        "from tensorflow.keras.layers import Dense, Dropout\n",
        "from tensorflow.keras.optimizers import Adam\n",
        "\n",
        "# Create a simpler model for TF-IDF features\n",
        "model = Sequential([\n",
        "    Dense(512, activation='relu', input_shape=(X_train_features.shape[1],)),\n",
        "    Dropout(0.3),\n",
        "    Dense(256, activation='relu'),\n",
        "    Dropout(0.3),\n",
        "    Dense(128, activation='relu'),\n",
        "    Dropout(0.2),\n",
        "    Dense(1, activation='sigmoid')\n",
        "])\n",
        "\n",
        "model.compile(\n",
        "    optimizer=Adam(learning_rate=0.001),\n",
        "    loss='binary_crossentropy',\n",
        "    metrics=['accuracy']\n",
        ")\n",
        "\n",
        "print(\"Model architecture:\")\n",
        "model.summary()\n"
      ]
    },
    {
      "cell_type": "code",
      "execution_count": null,
      "metadata": {},
      "outputs": [],
      "source": [
        "# Train the model\n",
        "print(\"Training the model...\")\n",
        "history = model.fit(\n",
        "    X_train_features, y_train,\n",
        "    epochs=20,\n",
        "    batch_size=32,\n",
        "    validation_split=0.2,\n",
        "    verbose=1\n",
        ")\n",
        "\n",
        "# Save the trained model\n",
        "model_path = '../models/fake_news_model.h5'\n",
        "model.save(model_path)\n",
        "print(f\"Model saved to {model_path}\")\n"
      ]
    },
    {
      "cell_type": "markdown",
      "metadata": {},
      "source": [
        "## 6. Model Evaluation\n"
      ]
    },
    {
      "cell_type": "code",
      "execution_count": null,
      "metadata": {},
      "outputs": [],
      "source": [
        "# Make predictions on test set\n",
        "y_pred_proba = model.predict(X_test_features)\n",
        "y_pred = (y_pred_proba > 0.5).astype(int).flatten()\n",
        "\n",
        "# Print classification report\n",
        "print(\"Classification Report:\")\n",
        "print(classification_report(y_test, y_pred, target_names=['Real News', 'Fake News']))\n",
        "\n",
        "# Print confusion matrix\n",
        "print(\"\\nConfusion Matrix:\")\n",
        "cm = confusion_matrix(y_test, y_pred)\n",
        "print(cm)\n",
        "\n",
        "# Visualize confusion matrix\n",
        "plt.figure(figsize=(8, 6))\n",
        "sns.heatmap(cm, annot=True, fmt='d', cmap='Blues', \n",
        "            xticklabels=['Real News', 'Fake News'],\n",
        "            yticklabels=['Real News', 'Fake News'])\n",
        "plt.title('Confusion Matrix')\n",
        "plt.ylabel('True Label')\n",
        "plt.xlabel('Predicted Label')\n",
        "plt.show()\n"
      ]
    }
  ],
  "metadata": {
    "language_info": {
      "name": "python"
    }
  },
  "nbformat": 4,
  "nbformat_minor": 2
}
