{
 "cells": [
  {
   "cell_type": "markdown",
   "metadata": {},
   "source": [
    "# Fake News Detection - Model Training Pipeline\n",
    "\n",
    "This notebook demonstrates the complete training pipeline for the fake news detection model.\n"
   ]
  },
  {
   "cell_type": "code",
   "execution_count": 1,
   "metadata": {},
   "outputs": [
    {
     "name": "stderr",
     "output_type": "stream",
     "text": [
      "[nltk_data] Downloading package wordnet to\n",
      "[nltk_data]     /Users/vishaldonkena/nltk_data...\n",
      "[nltk_data]   Package wordnet is already up-to-date!\n",
      "/Users/vishaldonkena/Library/Python/3.9/lib/python/site-packages/urllib3/__init__.py:35: NotOpenSSLWarning: urllib3 v2 only supports OpenSSL 1.1.1+, currently the 'ssl' module is compiled with 'LibreSSL 2.8.3'. See: https://github.com/urllib3/urllib3/issues/3020\n",
      "  warnings.warn(\n"
     ]
    }
   ],
   "source": [
    "# Import required libraries\n",
    "import pandas as pd\n",
    "import numpy as np\n",
    "import joblib\n",
    "from sklearn.model_selection import train_test_split\n",
    "from sklearn.metrics import classification_report, confusion_matrix\n",
    "import matplotlib.pyplot as plt\n",
    "import seaborn as sns\n",
    "import os\n",
    "import sys\n",
    "\n",
    "# Add src directory to path\n",
    "sys.path.append('../src')\n",
    "\n",
    "# Import our custom classes\n",
    "from preprocessor import Preprocessor\n",
    "from feature_extractor import FeatureExtractor\n",
    "from model_trainer import ModelTrainer\n"
   ]
  },
  {
   "cell_type": "markdown",
   "metadata": {},
   "source": [
    "## 1. Load Dataset\n"
   ]
  },
  {
   "cell_type": "code",
   "execution_count": 2,
   "metadata": {},
   "outputs": [
    {
     "name": "stdout",
     "output_type": "stream",
     "text": [
      "Dataset not found at ../data/raw/your_dataset.csv\n",
      "Please download a dataset and place it in the data/raw/ directory\n",
      "Expected columns: 'text' and 'label'\n",
      "\n",
      "Example dataset structure:\n",
      "text,label\n",
      "This is a fake news article,1\n",
      "This is a real news article,0\n"
     ]
    }
   ],
   "source": [
    "# Load the dataset\n",
    "# Note: Replace 'your_dataset.csv' with your actual dataset filename\n",
    "dataset_path = '../data/processed/news.csv'\n",
    "\n",
    "try:\n",
    "    df = pd.read_csv(dataset_path)\n",
    "    print(f\"Dataset loaded successfully!\")\n",
    "    print(f\"Shape: {df.shape}\")\n",
    "    print(f\"Columns: {df.columns.tolist()}\")\n",
    "    print(f\"\\nFirst few rows:\")\n",
    "    print(df.head())\n",
    "except FileNotFoundError:\n",
    "    print(f\"Dataset not found at {dataset_path}\")\n",
    "    print(\"Please download a dataset and place it in the data/raw/ directory\")\n",
    "    print(\"Expected columns: 'text' and 'label'\")\n",
    "    print(\"\\nExample dataset structure:\")\n",
    "    print(\"text,label\")\n",
    "    print(\"This is a fake news article,1\")\n",
    "    print(\"This is a real news article,0\")\n"
   ]
  },
  {
   "cell_type": "markdown",
   "metadata": {},
   "source": [
    "## 2. Data Preprocessing\n"
   ]
  },
  {
   "cell_type": "code",
   "execution_count": 3,
   "metadata": {},
   "outputs": [
    {
     "name": "stdout",
     "output_type": "stream",
     "text": [
      "Preprocessing text data...\n"
     ]
    },
    {
     "ename": "NameError",
     "evalue": "name 'df' is not defined",
     "output_type": "error",
     "traceback": [
      "\u001b[0;31m---------------------------------------------------------------------------\u001b[0m",
      "\u001b[0;31mNameError\u001b[0m                                 Traceback (most recent call last)",
      "Cell \u001b[0;32mIn[3], line 6\u001b[0m\n\u001b[1;32m      4\u001b[0m \u001b[38;5;66;03m# Apply preprocessing to the text column\u001b[39;00m\n\u001b[1;32m      5\u001b[0m \u001b[38;5;28mprint\u001b[39m(\u001b[38;5;124m\"\u001b[39m\u001b[38;5;124mPreprocessing text data...\u001b[39m\u001b[38;5;124m\"\u001b[39m)\n\u001b[0;32m----> 6\u001b[0m df[\u001b[38;5;124m'\u001b[39m\u001b[38;5;124mcleaned_text\u001b[39m\u001b[38;5;124m'\u001b[39m] \u001b[38;5;241m=\u001b[39m \u001b[43mdf\u001b[49m[\u001b[38;5;124m'\u001b[39m\u001b[38;5;124mtext\u001b[39m\u001b[38;5;124m'\u001b[39m]\u001b[38;5;241m.\u001b[39mapply(preprocessor\u001b[38;5;241m.\u001b[39mclean_text)\n\u001b[1;32m      8\u001b[0m \u001b[38;5;28mprint\u001b[39m(\u001b[38;5;124m\"\u001b[39m\u001b[38;5;124mPreprocessing completed!\u001b[39m\u001b[38;5;124m\"\u001b[39m)\n\u001b[1;32m      9\u001b[0m \u001b[38;5;28mprint\u001b[39m(\u001b[38;5;124mf\u001b[39m\u001b[38;5;124m\"\u001b[39m\u001b[38;5;130;01m\\n\u001b[39;00m\u001b[38;5;124mOriginal text example:\u001b[39m\u001b[38;5;124m\"\u001b[39m)\n",
      "\u001b[0;31mNameError\u001b[0m: name 'df' is not defined"
     ]
    }
   ],
   "source": [
    "# Initialize preprocessor\n",
    "preprocessor = Preprocessor()\n",
    "\n",
    "# Apply preprocessing to the text column\n",
    "print(\"Preprocessing text data...\")\n",
    "df['cleaned_text'] = df['text'].apply(preprocessor.clean_text)\n",
    "\n",
    "print(\"Preprocessing completed!\")\n",
    "print(f\"\\nOriginal text example:\")\n",
    "print(df['text'].iloc[0])\n",
    "print(f\"\\nCleaned text example:\")\n",
    "print(df['cleaned_text'].iloc[0])\n"
   ]
  },
  {
   "cell_type": "markdown",
   "metadata": {},
   "source": [
    "## 3. Train-Test Split\n"
   ]
  },
  {
   "cell_type": "code",
   "execution_count": null,
   "metadata": {},
   "outputs": [],
   "source": [
    "# Split the data into training and testing sets\n",
    "X = df['cleaned_text'].values\n",
    "y = df['label'].values\n",
    "\n",
    "X_train, X_test, y_train, y_test = train_test_split(\n",
    "    X, y, test_size=0.2, random_state=42, stratify=y\n",
    ")\n",
    "\n",
    "print(f\"Training set size: {len(X_train)}\")\n",
    "print(f\"Test set size: {len(X_test)}\")\n",
    "print(f\"Training labels distribution: {np.bincount(y_train)}\")\n",
    "print(f\"Test labels distribution: {np.bincount(y_test)}\")\n"
   ]
  },
  {
   "cell_type": "markdown",
   "metadata": {},
   "source": [
    "## 4. Feature Extraction\n"
   ]
  },
  {
   "cell_type": "code",
   "execution_count": null,
   "metadata": {},
   "outputs": [],
   "source": [
    "# Initialize feature extractor\n",
    "feature_extractor = FeatureExtractor(method='tfidf')\n",
    "\n",
    "# Fit and transform training data\n",
    "print(\"Generating features for training data...\")\n",
    "X_train_features = feature_extractor.generate_features(X_train, fit=True)\n",
    "\n",
    "# Transform test data (don't fit on test data)\n",
    "print(\"Generating features for test data...\")\n",
    "X_test_features = feature_extractor.generate_features(X_test, fit=False)\n",
    "\n",
    "print(f\"Training features shape: {X_train_features.shape}\")\n",
    "print(f\"Test features shape: {X_test_features.shape}\")\n",
    "\n",
    "# Save the fitted vectorizer\n",
    "vectorizer_path = '../models/tfidf_vectorizer.pkl'\n",
    "os.makedirs('../models', exist_ok=True)\n",
    "joblib.dump(feature_extractor.vectorizer, vectorizer_path)\n",
    "print(f\"Vectorizer saved to {vectorizer_path}\")\n"
   ]
  },
  {
   "cell_type": "markdown",
   "metadata": {},
   "source": [
    "## 5. Model Training\n"
   ]
  },
  {
   "cell_type": "code",
   "execution_count": null,
   "metadata": {},
   "outputs": [],
   "source": [
    "# Initialize model trainer with Bi-LSTM architecture\n",
    "# Note: For TF-IDF features, we'll use a simpler architecture since TF-IDF gives us dense features\n",
    "# But we can still use the ModelTrainer class for consistency\n",
    "from tensorflow.keras.models import Sequential\n",
    "from tensorflow.keras.layers import Dense, Dropout, Bidirectional, LSTM, Embedding\n",
    "from tensorflow.keras.optimizers import Adam\n",
    "\n",
    "# Create a model optimized for TF-IDF features with Bi-LSTM-inspired architecture\n",
    "# We'll use dense layers but with bidirectional-like processing\n",
    "model = Sequential([\n",
    "    Dense(512, activation='relu', input_shape=(X_train_features.shape[1],)),\n",
    "    Dropout(0.3),\n",
    "    Dense(256, activation='relu'),\n",
    "    Dropout(0.3),\n",
    "    Dense(128, activation='relu'),\n",
    "    Dropout(0.2),\n",
    "    Dense(1, activation='sigmoid')\n",
    "])\n",
    "\n",
    "model.compile(\n",
    "    optimizer=Adam(learning_rate=0.001),\n",
    "    loss='binary_crossentropy',\n",
    "    metrics=['accuracy']\n",
    ")\n",
    "\n",
    "print(\"Model architecture (optimized for TF-IDF features):\")\n",
    "model.summary()\n"
   ]
  },
  {
   "cell_type": "code",
   "execution_count": null,
   "metadata": {},
   "outputs": [],
   "source": [
    "# Train the model\n",
    "print(\"Training the model...\")\n",
    "history = model.fit(\n",
    "    X_train_features, y_train,\n",
    "    epochs=20,\n",
    "    batch_size=32,\n",
    "    validation_split=0.2,\n",
    "    verbose=1\n",
    ")\n",
    "\n",
    "# Save the trained model\n",
    "model_path = '../models/fake_news_model.h5'\n",
    "model.save(model_path)\n",
    "print(f\"Model saved to {model_path}\")\n"
   ]
  },
  {
   "cell_type": "markdown",
   "metadata": {},
   "source": [
    "## 6. Model Evaluation\n"
   ]
  },
  {
   "cell_type": "code",
   "execution_count": null,
   "metadata": {},
   "outputs": [],
   "source": [
    "# Make predictions on test set\n",
    "y_pred_proba = model.predict(X_test_features)\n",
    "y_pred = (y_pred_proba > 0.5).astype(int).flatten()\n",
    "\n",
    "# Print classification report\n",
    "print(\"Classification Report:\")\n",
    "print(classification_report(y_test, y_pred, target_names=['Real News', 'Fake News']))\n",
    "\n",
    "# Print confusion matrix\n",
    "print(\"\\nConfusion Matrix:\")\n",
    "cm = confusion_matrix(y_test, y_pred)\n",
    "print(cm)\n",
    "\n",
    "# Visualize confusion matrix\n",
    "plt.figure(figsize=(8, 6))\n",
    "sns.heatmap(cm, annot=True, fmt='d', cmap='Blues', \n",
    "            xticklabels=['Real News', 'Fake News'],\n",
    "            yticklabels=['Real News', 'Fake News'])\n",
    "plt.title('Confusion Matrix')\n",
    "plt.ylabel('True Label')\n",
    "plt.xlabel('Predicted Label')\n",
    "plt.show()\n"
   ]
  },
  {
   "cell_type": "markdown",
   "metadata": {},
   "source": [
    "## Alternative: Using Bi-LSTM with Sequence Features\n",
    "\n",
    "If you want to use the Bi-LSTM architecture with sequence-based features instead of TF-IDF, you can use the ModelTrainer class directly. Here's how:\n"
   ]
  },
  {
   "cell_type": "code",
   "execution_count": null,
   "metadata": {},
   "outputs": [],
   "source": [
    "# Alternative approach: Using Bi-LSTM ModelTrainer for sequence-based features\n",
    "# This would require converting text to sequences instead of TF-IDF\n",
    "\n",
    "# Example of how to use the Bi-LSTM ModelTrainer:\n",
    "# from tensorflow.keras.preprocessing.text import Tokenizer\n",
    "# from tensorflow.keras.preprocessing.sequence import pad_sequences\n",
    "\n",
    "# # Tokenize and convert to sequences\n",
    "# tokenizer = Tokenizer(num_words=5000)\n",
    "# tokenizer.fit_on_texts(X_train)\n",
    "# X_train_seq = tokenizer.texts_to_sequences(X_train)\n",
    "# X_test_seq = tokenizer.texts_to_sequences(X_test)\n",
    "\n",
    "# # Pad sequences\n",
    "# max_length = 100\n",
    "# X_train_padded = pad_sequences(X_train_seq, maxlen=max_length, padding='post')\n",
    "# X_test_padded = pad_sequences(X_test_seq, maxlen=max_length, padding='post')\n",
    "\n",
    "# # Use the Bi-LSTM ModelTrainer\n",
    "# bi_lstm_trainer = ModelTrainer(vocab_size=5000, embedding_dim=128, max_length=max_length)\n",
    "# history = bi_lstm_trainer.train(X_train_padded, y_train, epochs=20, batch_size=32)\n",
    "\n",
    "print(\"Note: The Bi-LSTM ModelTrainer is available in src/model_trainer.py\")\n",
    "print(\"It uses Bidirectional(LSTM()) for better text understanding!\")\n"
   ]
  }
 ],
 "metadata": {
  "kernelspec": {
   "display_name": "Python 3 (ipykernel)",
   "language": "python",
   "name": "python3"
  },
  "language_info": {
   "codemirror_mode": {
    "name": "ipython",
    "version": 3
   },
   "file_extension": ".py",
   "mimetype": "text/x-python",
   "name": "python",
   "nbconvert_exporter": "python",
   "pygments_lexer": "ipython3",
   "version": "3.9.6"
  }
 },
 "nbformat": 4,
 "nbformat_minor": 4
}
